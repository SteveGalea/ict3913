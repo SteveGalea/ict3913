{
 "cells": [
  {
   "cell_type": "code",
   "execution_count": 3,
   "metadata": {
    "collapsed": true
   },
   "outputs": [],
   "source": [
    "# chrome webdriver\n",
    "# request the following Uris\n",
    "# api.clubelo.com/YYYY-MM-DD\n",
    "# MM = 08 (AUG) DD = 01\n",
    "# YYYY varied"
   ]
  },
  {
   "cell_type": "code",
   "execution_count": 4,
   "outputs": [],
   "source": [
    "from selenium import webdriver\n",
    "from time import  sleep\n",
    "# driver = webdriver.Chrome(executable_path=r\"../chrome_webdriver/chromedriver.exe\")\n",
    "chromeOptions = webdriver.ChromeOptions()\n",
    "prefs = {\"download.default_directory\" : f\".\\\\clubelo\\\\all_leagues\"}\n",
    "chromeOptions.add_experimental_option(\"prefs\",prefs)\n",
    "# driver = webdriver.Chrome(executable_path=r\"../chrome_webdriver/chromedriver.exe\")\n",
    "driver = webdriver.Chrome(options=chromeOptions)#get football data (english championship/division 2)\n",
    "\n"
   ],
   "metadata": {
    "collapsed": false
   }
  },
  {
   "cell_type": "markdown",
   "source": [],
   "metadata": {
    "collapsed": false
   }
  },
  {
   "cell_type": "code",
   "execution_count": 5,
   "outputs": [
    {
     "name": "stdout",
     "output_type": "stream",
     "text": [
      "Dates fetched\n"
     ]
    }
   ],
   "source": [
    "#get all elo rankings from 1 Aug 1993 - 2022 (both included)\n",
    "for year in range (1993, 2023):\n",
    "    url = f'http://api.clubelo.com/{year}-07-22'\n",
    "    # url = f'http://api.clubelo.com/{year}-08-01'\n",
    "    driver.get(url)\n",
    "    sleep(10)\n",
    "\n",
    "driver.quit()\n",
    "print(\"Dates fetched\")"
   ],
   "metadata": {
    "collapsed": false
   }
  },
  {
   "cell_type": "code",
   "execution_count": null,
   "outputs": [],
   "source": [
    "#trim the dataset columns\n",
    "import os\n",
    "import pandas as pd\n",
    "print(os.getcwd())\n",
    "for year in range(1993,2022):\n",
    "    for country in ['ENG','ESP','GER','ITA']:\n",
    "        for level in [1,2]:\n",
    "            file= f\".\\\\{country}\\\\{level}\\\\{year}-08-01.csv\"\n",
    "            df=pd.read_csv(file, usecols=['Club','Elo'])\n",
    "            df.to_csv(file)"
   ],
   "metadata": {
    "collapsed": false
   }
  },
  {
   "cell_type": "code",
   "execution_count": null,
   "outputs": [],
   "source": [
    "#extract separate leagues from all leagues folder, select required columns only\n",
    "countries = [\"ENG\",\"GER\",\"ESP\",\"ITA\"]\n",
    "levels = [\"1\",\"2\"]\n",
    "\n",
    "for year in range (1993, 2023):\n",
    "    # file_path = f'./all_leagues/{year}-08-01.csv'\n",
    "    file_path = f'.\\\\all_leagues\\\\{year}-07-22.csv'\n",
    "    df = pd.read_csv(file_path)\n",
    "    # print(df)\n",
    "    df = df.filter([\"Club\",\"Country\",\"Level\",\"Elo\"])\n",
    "    for country in countries:\n",
    "        for level in levels:\n",
    "            tmp = df.query(f\"Country == '{country}' and Level == {level}\")\n",
    "            print(f\"{year}: {len(df)}\")\n",
    "            wanted_path = f\"./{country}/{level}\"\n",
    "            if not os.path.exists(wanted_path):\n",
    "                os.makedirs(f\"{wanted_path}/\")\n",
    "                tmp.to_csv(f\"{wanted_path}/{year}-07-22.csv\")\n",
    "            else:\n",
    "                tmp.to_csv(f\"{wanted_path}/{year}-07-22.csv\")"
   ],
   "metadata": {
    "collapsed": false
   }
  }
 ],
 "metadata": {
  "kernelspec": {
   "display_name": "Python 3",
   "language": "python",
   "name": "python3"
  },
  "language_info": {
   "codemirror_mode": {
    "name": "ipython",
    "version": 2
   },
   "file_extension": ".py",
   "mimetype": "text/x-python",
   "name": "python",
   "nbconvert_exporter": "python",
   "pygments_lexer": "ipython2",
   "version": "2.7.6"
  }
 },
 "nbformat": 4,
 "nbformat_minor": 0
}
