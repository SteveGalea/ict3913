{
 "cells": [
  {
   "cell_type": "code",
   "execution_count": null,
   "metadata": {
    "collapsed": true
   },
   "outputs": [],
   "source": [
    "# chrome webdriver\n",
    "# request the following Uris\n",
    "# api.clubelo.com/YYYY-MM-DD"
   ]
  },
  {
   "cell_type": "code",
   "execution_count": null,
   "outputs": [],
   "source": [
    "from selenium import webdriver\n",
    "from time import sleep\n",
    "from selenium import webdriver\n",
    "from selenium.webdriver.support.ui import WebDriverWait\n",
    "from selenium.webdriver.support import expected_conditions as EC\n",
    "from selenium.webdriver.common.by import By\n",
    "import pandas as pd\n"
   ],
   "metadata": {
    "collapsed": false
   }
  },
  {
   "cell_type": "markdown",
   "source": [
    "Scrape data"
   ],
   "metadata": {
    "collapsed": false
   }
  },
  {
   "cell_type": "code",
   "execution_count": null,
   "outputs": [],
   "source": [
    "#get all HFA from 22 Jul 1993 - 2022 (both included)\n",
    "driver = webdriver.Chrome()\n",
    "# points = []\n",
    "\n",
    "\n",
    "temp_list=[]\n",
    "\n",
    "for country in [\"ENG\",\"GER\",\"ESP\",\"ITA\"]:\n",
    "    for year in range (1993, 2023):\n",
    "        date = f\"{year}-07-22\"\n",
    "        key = f\"{date}/{country}\"\n",
    "        # key = league\n",
    "        url = f'http://clubelo.com/{key}'\n",
    "        driver.get(url)\n",
    "        sleep(0.5)\n",
    "        try:\n",
    "            # paragraph = WebDriverWait(driver,30).until(EC.presence_of_element_located(driver.find_element(By.XPATH,'/html/body/div/div[3]/p/text()[1]'))\n",
    "            paragraph = WebDriverWait(driver,30).until(EC.presence_of_element_located((By.XPATH,'/html/body/div/div[3]/p')))\n",
    "            # paragraph = driver.find_element(By.XPATH,'/html/body/div/div[3]/p')\n",
    "            # print(paragraph)\n",
    "            paragraph_val = paragraph.text\n",
    "            #split 0: remove new line\n",
    "            paragraph_val = paragraph_val.split(\"\\n\")[0]\n",
    "            #split 1: remove \"Home Field Advantage: \"\n",
    "            paragraph_val = str(paragraph_val.split(\"Home Field Advantage: \")[1])\n",
    "            #split 2: remove \" Elo points.\"\n",
    "            paragraph_val = float(paragraph_val.split(\" Elo points.\")[0])\n",
    "        finally:\n",
    "            driver.back()\n",
    "        # points.append(paragraph_val)\n",
    "\n",
    "        # save object in a list\n",
    "        temp = {\n",
    "            \"DATE\": date,\n",
    "            \"COUNTRY\": country,\n",
    "            \"YEAR\": year,\n",
    "            \"HFA\": float(paragraph_val),\n",
    "        }\n",
    "        print(f\"{temp} is being saved\")\n",
    "        temp_list.append(temp) # values to be used in dataframe that will be exported as a csv at the end\n",
    "        sleep(61)\n",
    "\n",
    "driver.quit()\n"
   ],
   "metadata": {
    "collapsed": false
   }
  },
  {
   "cell_type": "markdown",
   "source": [
    "Order data"
   ],
   "metadata": {
    "collapsed": false
   }
  },
  {
   "cell_type": "code",
   "execution_count": null,
   "outputs": [],
   "source": [
    "date = []\n",
    "country = []\n",
    "year = []\n",
    "hfa = []\n",
    "\n",
    "for temp in temp_list:\n",
    "    date.append(temp[\"DATE\"])\n",
    "    country.append(temp[\"COUNTRY\"])\n",
    "    year.append(temp[\"YEAR\"])\n",
    "    hfa.append(temp[\"HFA\"])\n",
    "\n",
    "dataframe = pd.DataFrame({\n",
    "    'DATE': date,\n",
    "    'COUNTRY': country,\n",
    "    'YEAR': year,\n",
    "    'HFA': hfa})\n",
    "print(\"Dates fetched\")\n",
    "print(dataframe)\n",
    "\n",
    "print(\"saving dataframe\")\n",
    "dataframe.to_csv('../HFA/HFA_ENG_ESP_GER_ITA_1993_to_2022.csv')"
   ],
   "metadata": {
    "collapsed": false
   }
  },
  {
   "cell_type": "markdown",
   "source": [
    "Split HFA data obtained into separate files"
   ],
   "metadata": {
    "collapsed": false
   }
  },
  {
   "cell_type": "code",
   "execution_count": null,
   "outputs": [],
   "source": [
    "import pandas as pd\n",
    "\n",
    "df = pd.read_csv(\"HFA_ENG_ESP_GER_ITA_1993_to_2022.csv\")\n",
    "df= df.drop(df.columns[0],axis=1)\n",
    "print(df)\n",
    "# dict = {country : pd.DataFrame()[\"DATE\",\"COUNTRY\",\"YEAR\",\"HFA\"] for country in ['ENG','ESP','GER','ITA']}\n",
    "\n",
    "for country in ['ENG', 'ESP', 'GER', 'ITA']:\n",
    "\n",
    "    df2 = df[:][df.COUNTRY == country]\n",
    "    print(df2)\n",
    "    # print(df_save.info())\n",
    "    df2.to_csv(f'..\\\\{country}.csv',index=False)"
   ],
   "metadata": {
    "collapsed": false
   }
  },
  {
   "cell_type": "code",
   "execution_count": null,
   "outputs": [],
   "source": [
    "# chrome webdriver\n",
    "# request the following Uris\n",
    "# api.clubelo.com/YYYY-MM-DD\n",
    "# MM = 08 (AUG) DD = 01\n",
    "# YYYY varied'\n",
    "import pandas as pd\n",
    "import csv\n",
    "import os\n",
    "countries = [\"ENG\",\"GER\",\"ESP\",\"ITA\"]\n",
    "levels = [\"1\",\"2\"]\n",
    "\n",
    "for year in range (1993, 2023):\n",
    "    file_path = f'./all_leagues/{year}-07-22.csv'\n",
    "    df = pd.read_csv(file_path)\n",
    "    # print(df)\n",
    "    df = df.filter([\"Rank\",\"Club\",\"Country\",\"Level\",\"Elo\"])\n",
    "    for country in countries:\n",
    "        for level in levels:\n",
    "            tmp = df.query(f\"Country == '{country}' and Level == {level}\")\n",
    "            print(f\"{year}: {len(df)}\")\n",
    "            wanted_path = f\"./{country}/{level}\"\n",
    "            if not os.path.exists(wanted_path):\n",
    "                os.makedirs(f\"{wanted_path}/\")\n",
    "                tmp.to_csv(f\"{wanted_path}/{year}-07-22.csv\")\n",
    "            else:\n",
    "                tmp.to_csv(f\"{wanted_path}/{year}-07-22.csv\")"
   ],
   "metadata": {
    "collapsed": false
   }
  }
 ],
 "metadata": {
  "kernelspec": {
   "display_name": "Python 3",
   "language": "python",
   "name": "python3"
  },
  "language_info": {
   "codemirror_mode": {
    "name": "ipython",
    "version": 2
   },
   "file_extension": ".py",
   "mimetype": "text/x-python",
   "name": "python",
   "nbconvert_exporter": "python",
   "pygments_lexer": "ipython2",
   "version": "2.7.6"
  }
 },
 "nbformat": 4,
 "nbformat_minor": 0
}
