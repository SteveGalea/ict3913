{
 "cells": [
  {
   "cell_type": "code",
   "execution_count": 8,
   "metadata": {
    "collapsed": true
   },
   "outputs": [],
   "source": [
    "#https://medium.com/@stella96joshua/how-to-combine-multiple-csv-files-using-python-for-your-analysis-a88017c6ff9e\n",
    "\n",
    "import os\n",
    "import glob\n",
    "import pandas as pd"
   ]
  },
  {
   "cell_type": "code",
   "execution_count": 9,
   "outputs": [
    {
     "data": {
      "text/plain": "['rawHFA1.csv', 'rawHFA2.csv', 'rawHFA3.csv', 'rawHFA4.csv', 'rawHFA5.csv']"
     },
     "execution_count": 9,
     "metadata": {},
     "output_type": "execute_result"
    }
   ],
   "source": [
    "#list all csv files only\n",
    "csv_files = glob.glob('*.{}'.format('csv'))\n",
    "csv_files"
   ],
   "metadata": {
    "collapsed": false
   }
  },
  {
   "cell_type": "code",
   "execution_count": 10,
   "outputs": [
    {
     "data": {
      "text/plain": "           DATE COUNTRY  YEAR    HFA\n0    2021-07-22     ENG  2021   21.2\n1    2022-07-22     ENG  2022   43.7\n2    2021-07-22     GER  2021   49.9\n3    2022-07-22     GER  2022   46.8\n4    2021-07-22     ESP  2021   54.5\n..          ...     ...   ...    ...\n115  2000-07-22     ITA  2000  117.8\n116  2001-07-22     ITA  2001   92.5\n117  2002-07-22     ITA  2002   85.9\n118  2003-07-22     ITA  2003   98.1\n119  2004-07-22     ITA  2004   92.6\n\n[120 rows x 4 columns]",
      "text/html": "<div>\n<style scoped>\n    .dataframe tbody tr th:only-of-type {\n        vertical-align: middle;\n    }\n\n    .dataframe tbody tr th {\n        vertical-align: top;\n    }\n\n    .dataframe thead th {\n        text-align: right;\n    }\n</style>\n<table border=\"1\" class=\"dataframe\">\n  <thead>\n    <tr style=\"text-align: right;\">\n      <th></th>\n      <th>DATE</th>\n      <th>COUNTRY</th>\n      <th>YEAR</th>\n      <th>HFA</th>\n    </tr>\n  </thead>\n  <tbody>\n    <tr>\n      <th>0</th>\n      <td>2021-07-22</td>\n      <td>ENG</td>\n      <td>2021</td>\n      <td>21.2</td>\n    </tr>\n    <tr>\n      <th>1</th>\n      <td>2022-07-22</td>\n      <td>ENG</td>\n      <td>2022</td>\n      <td>43.7</td>\n    </tr>\n    <tr>\n      <th>2</th>\n      <td>2021-07-22</td>\n      <td>GER</td>\n      <td>2021</td>\n      <td>49.9</td>\n    </tr>\n    <tr>\n      <th>3</th>\n      <td>2022-07-22</td>\n      <td>GER</td>\n      <td>2022</td>\n      <td>46.8</td>\n    </tr>\n    <tr>\n      <th>4</th>\n      <td>2021-07-22</td>\n      <td>ESP</td>\n      <td>2021</td>\n      <td>54.5</td>\n    </tr>\n    <tr>\n      <th>...</th>\n      <td>...</td>\n      <td>...</td>\n      <td>...</td>\n      <td>...</td>\n    </tr>\n    <tr>\n      <th>115</th>\n      <td>2000-07-22</td>\n      <td>ITA</td>\n      <td>2000</td>\n      <td>117.8</td>\n    </tr>\n    <tr>\n      <th>116</th>\n      <td>2001-07-22</td>\n      <td>ITA</td>\n      <td>2001</td>\n      <td>92.5</td>\n    </tr>\n    <tr>\n      <th>117</th>\n      <td>2002-07-22</td>\n      <td>ITA</td>\n      <td>2002</td>\n      <td>85.9</td>\n    </tr>\n    <tr>\n      <th>118</th>\n      <td>2003-07-22</td>\n      <td>ITA</td>\n      <td>2003</td>\n      <td>98.1</td>\n    </tr>\n    <tr>\n      <th>119</th>\n      <td>2004-07-22</td>\n      <td>ITA</td>\n      <td>2004</td>\n      <td>92.6</td>\n    </tr>\n  </tbody>\n</table>\n<p>120 rows × 4 columns</p>\n</div>"
     },
     "execution_count": 10,
     "metadata": {},
     "output_type": "execute_result"
    }
   ],
   "source": [
    "wanted_columns = [\"DATE\",\"COUNTRY\",\"YEAR\",\"HFA\"]\n",
    "df_concat = pd.concat([pd.read_csv(f)[wanted_columns] for f in csv_files ], ignore_index=True)\n",
    "df_concat"
   ],
   "metadata": {
    "collapsed": false
   }
  },
  {
   "cell_type": "code",
   "execution_count": 11,
   "outputs": [
    {
     "name": "stdout",
     "output_type": "stream",
     "text": [
      "<class 'pandas.core.frame.DataFrame'>\n",
      "RangeIndex: 120 entries, 0 to 119\n",
      "Data columns (total 4 columns):\n",
      " #   Column   Non-Null Count  Dtype  \n",
      "---  ------   --------------  -----  \n",
      " 0   DATE     120 non-null    object \n",
      " 1   COUNTRY  120 non-null    object \n",
      " 2   YEAR     120 non-null    int64  \n",
      " 3   HFA      120 non-null    float64\n",
      "dtypes: float64(1), int64(1), object(2)\n",
      "memory usage: 3.9+ KB\n"
     ]
    }
   ],
   "source": [
    "# get info on data\n",
    "df_concat.info()"
   ],
   "metadata": {
    "collapsed": false
   }
  },
  {
   "cell_type": "code",
   "execution_count": 12,
   "outputs": [
    {
     "name": "stdout",
     "output_type": "stream",
     "text": [
      "<class 'pandas.core.frame.DataFrame'>\n",
      "RangeIndex: 120 entries, 0 to 119\n",
      "Data columns (total 4 columns):\n",
      " #   Column   Non-Null Count  Dtype         \n",
      "---  ------   --------------  -----         \n",
      " 0   DATE     120 non-null    datetime64[ns]\n",
      " 1   COUNTRY  120 non-null    object        \n",
      " 2   YEAR     120 non-null    int64         \n",
      " 3   HFA      120 non-null    float64       \n",
      "dtypes: datetime64[ns](1), float64(1), int64(1), object(1)\n",
      "memory usage: 3.9+ KB\n"
     ]
    }
   ],
   "source": [
    "df_concat[\"DATE\"] = pd.to_datetime(df_concat[\"DATE\"], format='')\n",
    "df_concat.info()"
   ],
   "metadata": {
    "collapsed": false
   }
  },
  {
   "cell_type": "code",
   "execution_count": 13,
   "outputs": [
    {
     "data": {
      "text/plain": "         DATE COUNTRY  YEAR   HFA\n72 1993-07-22     ENG  1993  95.3\n73 1994-07-22     ENG  1994  75.4\n74 1995-07-22     ENG  1995  91.6\n75 1996-07-22     ENG  1996  76.0\n76 1997-07-22     ENG  1997  83.5\n..        ...     ...   ...   ...\n37 2018-07-22     ITA  2018  59.1\n38 2019-07-22     ITA  2019  72.5\n39 2020-07-22     ITA  2020  52.8\n6  2021-07-22     ITA  2021  42.8\n7  2022-07-22     ITA  2022  41.1\n\n[120 rows x 4 columns]",
      "text/html": "<div>\n<style scoped>\n    .dataframe tbody tr th:only-of-type {\n        vertical-align: middle;\n    }\n\n    .dataframe tbody tr th {\n        vertical-align: top;\n    }\n\n    .dataframe thead th {\n        text-align: right;\n    }\n</style>\n<table border=\"1\" class=\"dataframe\">\n  <thead>\n    <tr style=\"text-align: right;\">\n      <th></th>\n      <th>DATE</th>\n      <th>COUNTRY</th>\n      <th>YEAR</th>\n      <th>HFA</th>\n    </tr>\n  </thead>\n  <tbody>\n    <tr>\n      <th>72</th>\n      <td>1993-07-22</td>\n      <td>ENG</td>\n      <td>1993</td>\n      <td>95.3</td>\n    </tr>\n    <tr>\n      <th>73</th>\n      <td>1994-07-22</td>\n      <td>ENG</td>\n      <td>1994</td>\n      <td>75.4</td>\n    </tr>\n    <tr>\n      <th>74</th>\n      <td>1995-07-22</td>\n      <td>ENG</td>\n      <td>1995</td>\n      <td>91.6</td>\n    </tr>\n    <tr>\n      <th>75</th>\n      <td>1996-07-22</td>\n      <td>ENG</td>\n      <td>1996</td>\n      <td>76.0</td>\n    </tr>\n    <tr>\n      <th>76</th>\n      <td>1997-07-22</td>\n      <td>ENG</td>\n      <td>1997</td>\n      <td>83.5</td>\n    </tr>\n    <tr>\n      <th>...</th>\n      <td>...</td>\n      <td>...</td>\n      <td>...</td>\n      <td>...</td>\n    </tr>\n    <tr>\n      <th>37</th>\n      <td>2018-07-22</td>\n      <td>ITA</td>\n      <td>2018</td>\n      <td>59.1</td>\n    </tr>\n    <tr>\n      <th>38</th>\n      <td>2019-07-22</td>\n      <td>ITA</td>\n      <td>2019</td>\n      <td>72.5</td>\n    </tr>\n    <tr>\n      <th>39</th>\n      <td>2020-07-22</td>\n      <td>ITA</td>\n      <td>2020</td>\n      <td>52.8</td>\n    </tr>\n    <tr>\n      <th>6</th>\n      <td>2021-07-22</td>\n      <td>ITA</td>\n      <td>2021</td>\n      <td>42.8</td>\n    </tr>\n    <tr>\n      <th>7</th>\n      <td>2022-07-22</td>\n      <td>ITA</td>\n      <td>2022</td>\n      <td>41.1</td>\n    </tr>\n  </tbody>\n</table>\n<p>120 rows × 4 columns</p>\n</div>"
     },
     "execution_count": 13,
     "metadata": {},
     "output_type": "execute_result"
    }
   ],
   "source": [
    "df = df_concat.sort_values(['COUNTRY','DATE'],ascending=True)\n",
    "df"
   ],
   "metadata": {
    "collapsed": false
   }
  },
  {
   "cell_type": "code",
   "execution_count": 13,
   "outputs": [],
   "source": [],
   "metadata": {
    "collapsed": false
   }
  },
  {
   "cell_type": "code",
   "execution_count": 14,
   "outputs": [
    {
     "name": "stdout",
     "output_type": "stream",
     "text": [
      "         DATE COUNTRY  YEAR   HFA\n",
      "72 1993-07-22     ENG  1993  95.3\n",
      "73 1994-07-22     ENG  1994  75.4\n",
      "74 1995-07-22     ENG  1995  91.6\n",
      "75 1996-07-22     ENG  1996  76.0\n",
      "76 1997-07-22     ENG  1997  83.5\n",
      "..        ...     ...   ...   ...\n",
      "37 2018-07-22     ITA  2018  59.1\n",
      "38 2019-07-22     ITA  2019  72.5\n",
      "39 2020-07-22     ITA  2020  52.8\n",
      "6  2021-07-22     ITA  2021  42.8\n",
      "7  2022-07-22     ITA  2022  41.1\n",
      "\n",
      "[120 rows x 4 columns]\n"
     ]
    }
   ],
   "source": [
    "print(df)\n",
    "df.to_csv(f\"{os.getcwd()}\\\\HFA_ENG_ESP_GER_ITA_1993_to_2022.csv\")\n",
    "#successfully compiled all files"
   ],
   "metadata": {
    "collapsed": false
   }
  },
  {
   "cell_type": "markdown",
   "source": [
    "Split the files into separate leagues"
   ],
   "metadata": {
    "collapsed": false
   }
  },
  {
   "cell_type": "code",
   "execution_count": 14,
   "outputs": [],
   "source": [
    "\n",
    "import pandas as pd\n",
    "\n",
    "df = pd.read_csv(\"HFA_ENG_ESP_GER_ITA_1993_to_2022.csv\")\n",
    "df= df.drop(df.columns[0],axis=1)\n",
    "print(df)\n",
    "# dict = {country : pd.DataFrame()[\"DATE\",\"COUNTRY\",\"YEAR\",\"HFA\"] for country in ['ENG','ESP','GER','ITA']}\n",
    "\n",
    "for country in ['ENG', 'ESP', 'GER', 'ITA']:\n",
    "\n",
    "    df2 = df[:][df.COUNTRY == country]\n",
    "    print(df2)\n",
    "    # print(df_save.info())\n",
    "    df2.to_csv(f'..\\\\{country}.csv',index=False)"
   ],
   "metadata": {
    "collapsed": false
   }
  }
 ],
 "metadata": {
  "kernelspec": {
   "display_name": "Python 3",
   "language": "python",
   "name": "python3"
  },
  "language_info": {
   "codemirror_mode": {
    "name": "ipython",
    "version": 2
   },
   "file_extension": ".py",
   "mimetype": "text/x-python",
   "name": "python",
   "nbconvert_exporter": "python",
   "pygments_lexer": "ipython2",
   "version": "2.7.6"
  }
 },
 "nbformat": 4,
 "nbformat_minor": 0
}
