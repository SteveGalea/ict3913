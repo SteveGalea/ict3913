{
 "cells": [
  {
   "cell_type": "markdown",
   "source": [
    "EXTRACT Football Data"
   ],
   "metadata": {
    "collapsed": false
   }
  },
  {
   "cell_type": "code",
   "execution_count": 1,
   "metadata": {
    "collapsed": true
   },
   "outputs": [
    {
     "name": "stdout",
     "output_type": "stream",
     "text": [
      "[9394, 9495, 9596, 9697, 9798, 9899, '9900', '0001', '102', '203', '304', '405', '506', '607', '708', '809', '910', '1011', '1112', '1213', '1314', '1415', '1516', '1617', '1718', '1819', '1920', '2021', '2122', '2223']\n"
     ]
    }
   ],
   "source": [
    "from selenium import webdriver\n",
    "from time import sleep\n",
    "import numpy as np\n",
    "import os\n",
    "import time\n",
    "\n",
    "\n",
    "# Manually get all country data - some errors were encountered (because ITA and SPA dataset only has matches from 1998 onwards)\n",
    "COUNTRY = 'GER' # 'ENG' 'GER' # 'SPA' # 'ITA'\n",
    "LEVEL = '1' # 1 or 2\n",
    "FILE = 'D1' #'E0/E1' 'D1/D2' 'SP1/SP2' I1/I2'\n",
    "\n",
    "#customize download location\n",
    "chromeOptions = webdriver.ChromeOptions()\n",
    "prefs = {\"download.default_directory\" : f\"C:\\\\Users\\\\steve\\\\ict3913_stevegalea\\\\models\\\\untrimmed_football_data\\\\{COUNTRY}\\\\{LEVEL}\"}\n",
    "# prefs = {\"download.default_directory\" : f\"C:\\\\Users\\\\steve\\\\ict3913_stevegalea\\\\models\\\\trimmed_football_data\\\\{COUNTRY}\\\\{LEVEL}\"}\n",
    "chromeOptions.add_experimental_option(\"prefs\",prefs)\n",
    "driver = webdriver.Chrome(options=chromeOptions)#get football data (english championship/division 2)\n",
    "\n",
    "\n",
    "#generate season ids (9394 = 1993-1994 season, etc)\n",
    "ids = np.arange(9394, 9991, 101).tolist()\n",
    "# print(ids_part1)\n",
    "# print(ids_part2)\n",
    "ids.append('9900')\n",
    "ids.append('0001')\n",
    "[ids.append(f'{x}') for x in range(102, 2224, 101)]\n",
    "\n",
    "\n",
    "\n",
    "print(ids)"
   ]
  },
  {
   "cell_type": "code",
   "execution_count": 2,
   "outputs": [
    {
     "name": "stdout",
     "output_type": "stream",
     "text": [
      "https://www.football-data.co.uk/mmz4281/9394/D1.csv\n",
      "https://www.football-data.co.uk/mmz4281/9495/D1.csv\n",
      "https://www.football-data.co.uk/mmz4281/9596/D1.csv\n",
      "https://www.football-data.co.uk/mmz4281/9697/D1.csv\n",
      "https://www.football-data.co.uk/mmz4281/9798/D1.csv\n",
      "https://www.football-data.co.uk/mmz4281/9899/D1.csv\n",
      "https://www.football-data.co.uk/mmz4281/9900/D1.csv\n",
      "https://www.football-data.co.uk/mmz4281/0001/D1.csv\n",
      "https://www.football-data.co.uk/mmz4281/102/D1.csv\n",
      "https://www.football-data.co.uk/mmz4281/203/D1.csv\n",
      "https://www.football-data.co.uk/mmz4281/304/D1.csv\n",
      "https://www.football-data.co.uk/mmz4281/405/D1.csv\n",
      "https://www.football-data.co.uk/mmz4281/506/D1.csv\n",
      "https://www.football-data.co.uk/mmz4281/607/D1.csv\n",
      "https://www.football-data.co.uk/mmz4281/708/D1.csv\n",
      "https://www.football-data.co.uk/mmz4281/809/D1.csv\n",
      "https://www.football-data.co.uk/mmz4281/910/D1.csv\n",
      "https://www.football-data.co.uk/mmz4281/1011/D1.csv\n",
      "https://www.football-data.co.uk/mmz4281/1112/D1.csv\n",
      "https://www.football-data.co.uk/mmz4281/1213/D1.csv\n",
      "https://www.football-data.co.uk/mmz4281/1314/D1.csv\n",
      "https://www.football-data.co.uk/mmz4281/1415/D1.csv\n",
      "https://www.football-data.co.uk/mmz4281/1516/D1.csv\n",
      "https://www.football-data.co.uk/mmz4281/1617/D1.csv\n",
      "https://www.football-data.co.uk/mmz4281/1718/D1.csv\n",
      "https://www.football-data.co.uk/mmz4281/1819/D1.csv\n",
      "https://www.football-data.co.uk/mmz4281/1920/D1.csv\n",
      "https://www.football-data.co.uk/mmz4281/2021/D1.csv\n",
      "https://www.football-data.co.uk/mmz4281/2122/D1.csv\n",
      "https://www.football-data.co.uk/mmz4281/2223/D1.csv\n",
      "Fetched and saved\n"
     ]
    }
   ],
   "source": [
    "\n",
    "\n",
    "year = 1994 # 1994 refers to 1993-1994 season - used in the file name\n",
    "for id in ids:\n",
    "    url = f'https://www.football-data.co.uk/mmz4281/{id}/{FILE}.csv'\n",
    "    print(url)\n",
    "    driver.get(url)\n",
    "    sleep(2.5)\n",
    "    if driver.title != '300 Multiple Choices':\n",
    "        old_name = f\"./{COUNTRY}/{LEVEL}/{FILE}.csv\"\n",
    "        new_name = f\"./{COUNTRY}/{LEVEL}/{year}.csv\"\n",
    "        try:\n",
    "            os.rename(old_name, new_name)\n",
    "        except FileNotFoundError:\n",
    "            print(\"Wrong file download/Problems encountered in file name. Continuing to fetch other files...\")\n",
    "    else:\n",
    "        driver.back()\n",
    "        # driver = webdriver.Chrome(options=chromeOptions)#get football data\n",
    "    year += 1\n",
    "\n",
    "print(\"Fetched and saved\")\n",
    "driver.quit()"
   ],
   "metadata": {
    "collapsed": false
   }
  },
  {
   "cell_type": "markdown",
   "source": [
    "Trim Data (FOR trimmed_football_data directory ONLY!)"
   ],
   "metadata": {
    "collapsed": false
   }
  },
  {
   "cell_type": "code",
   "execution_count": null,
   "outputs": [],
   "source": [
    "#https://perials.com/getting-csv-files-directory-subdirectories-using-python/\n",
    "import os\n",
    "from glob import glob\n",
    "\n",
    "import pandas as pd\n",
    "\n",
    "PATH = \".\\\\\"\n",
    "EXT = \"*.csv\"\n",
    "all_csv_files = [file\n",
    "                 for path, subdir, files in os.walk(PATH)\n",
    "                 for file in glob(os.path.join(path, EXT))]\n",
    "print(all_csv_files)\n",
    "\n",
    "import csv\n",
    "\n",
    "#https://java2blog.com/read-csv-line-by-line-python/#:~:text=in%20the%20file.-,To%20read%20the%20CSV%20file%20line%20by%20line%2C%20we%20will,one%20by%20one%20as%20follows.\n",
    "\n",
    "for file in all_csv_files:\n",
    "    print(file)\n",
    "    #https://www.geeksforgeeks.org/working-csv-files-python/\n",
    "    rows = []\n",
    "    fields = ['Div','Date','HomeTeam','AwayTeam','FTHG','FTAG','FTR']\n",
    "    with open(file, 'r') as csvfile:\n",
    "        rowreader = csv.reader(csvfile,delimiter=',', quoting=csv.QUOTE_ALL)\n",
    "\n",
    "        for row in rowreader:\n",
    "            # print(row)\n",
    "            rows.append(row[0:8])\n",
    "\n",
    "    with open(file, 'w') as csvfile:\n",
    "        # creating a csv dict writer object\n",
    "        writer = csv.writer(csvfile)\n",
    "        writer.writerows(rows)"
   ],
   "metadata": {
    "collapsed": false
   }
  }
 ],
 "metadata": {
  "kernelspec": {
   "display_name": "Python 3",
   "language": "python",
   "name": "python3"
  },
  "language_info": {
   "codemirror_mode": {
    "name": "ipython",
    "version": 2
   },
   "file_extension": ".py",
   "mimetype": "text/x-python",
   "name": "python",
   "nbconvert_exporter": "python",
   "pygments_lexer": "ipython2",
   "version": "2.7.6"
  }
 },
 "nbformat": 4,
 "nbformat_minor": 0
}
